{
 "cells": [
  {
   "cell_type": "code",
   "execution_count": 2,
   "metadata": {},
   "outputs": [
    {
     "ename": "IndentationError",
     "evalue": "unexpected indent (<ipython-input-2-927b0de059ae>, line 32)",
     "output_type": "error",
     "traceback": [
      "\u001b[0;36m  File \u001b[0;32m\"<ipython-input-2-927b0de059ae>\"\u001b[0;36m, line \u001b[0;32m32\u001b[0m\n\u001b[0;31m    FROM CHICAGO_PUBLIC_SCHOOLS\u001b[0m\n\u001b[0m    ^\u001b[0m\n\u001b[0;31mIndentationError\u001b[0m\u001b[0;31m:\u001b[0m unexpected indent\n"
     ]
    }
   ],
   "source": [
    "#Problem 1\n",
    "#How many rows are in each dataset?\n",
    "\n",
    "# Rows in Census Data (Socieconimic Indicators)\n",
    "%sql SELECT COUNT (*) FROM CENSUS_DATA;\n",
    "\n",
    "# Rows in Public Schools\n",
    "%sql SELECT COUNT (*) FROM CHICAGO_PUBLIC_SCHOOLS;\n",
    "\n",
    "# Rows in Crime Data\n",
    "%sql SELECT COUNT (*) FROM CHICAGO_CRIME_DATA;"
   ]
  },
  {
   "cell_type": "code",
   "execution_count": null,
   "metadata": {},
   "outputs": [],
   "source": [
    "#Problem 2\n",
    "#Find average college enrollments by community area\n",
    "\n",
    "%sql SELECT \"Community_Area_Name\", AVG(\"College_Enrollment__number_of_students_\") AS \"AVG_COLLEGE_ENROLLMENT\"\\\n",
    "FROM CHICAGO_PUBLIC_SCHOOLS \\\n",
    "GROUP BY \"Community_Area_Name\" ;\n"
   ]
  },
  {
   "cell_type": "code",
   "execution_count": null,
   "metadata": {},
   "outputs": [],
   "source": [
    "#Problem 3\n",
    "#Find the number of schools that are healthy school certified\n",
    "\n",
    "%sql SELECT COUNT(*) as number_of_schools FROM CHICAGO_PUBLIC_SCHOOLS WHERE \"Healthy_Schools_Certified_\" = 'Yes';\n"
   ]
  },
  {
   "cell_type": "code",
   "execution_count": null,
   "metadata": {},
   "outputs": [],
   "source": [
    "#Problem 4\n",
    "#How many observations have a Location Description value of GAS STATION\n",
    "\n",
    "%sql SELECT COUNT(*) as value_of_GAS_STATION FROM CHICAGO_CRIME_DATA WHERE \"Location_Description\" = 'GAS STATION';\n"
   ]
  },
  {
   "cell_type": "code",
   "execution_count": null,
   "metadata": {},
   "outputs": [],
   "source": [
    "#Problem 5\n",
    "#Retrieve a list of the top 10 community areas which have most number of schools and sorted in descending order.\n",
    "\n",
    "%sql SELECT \"Community_Area_Name\", COUNT(\"Community_Area_Name\") AS \"Number_of_Schools\" \n",
    "    FROM CHICAGO_PUBLIC_SCHOOLS\n",
    "    GROUP BY \"Community_Area_Name\"\n",
    "    ORDER BY \"Number_of_Schools\" DESC\n",
    "    LIMIT    10;\n",
    "    "
   ]
  },
  {
   "cell_type": "code",
   "execution_count": null,
   "metadata": {},
   "outputs": [],
   "source": [
    "#Problem 6\n",
    "#How many observations have value MOTOR VEHICLE THEFT in the Primary Type variable (this is the number of crimes related to Motor vehicles)\n",
    "\n",
    "%sql SELECT COUNT(*) AS \"thisis the number of crimes related to Motor vehicles\" \\\n",
    "FROM CHICAGO_CRIME_DATA WHERE \"Primary_Type\" = 'MOTOR VEHICLE THEFT';\n"
   ]
  },
  {
   "cell_type": "code",
   "execution_count": null,
   "metadata": {},
   "outputs": [],
   "source": [
    "#Problem 7\n",
    "#Find the minimum “Average Student Attendance” for community are where hardship is 96. Hint: use INNER JOIN\n",
    "\n",
    "%sql SELECT MIN(\"Average_Student_Attendance\") as \"Average Student Attendanc\" \\\n",
    "FROM CHICAGO_PUBLIC_SCHOOLS \\\n",
    "INNER JOIN CENSUS_DATA ON CHICAGO_PUBLIC_SCHOOLS.\"Community_Area_Number\" = CENSUS_DATA.\"Community_Area_Number\" \\\n",
    "WHERE \"HARDSHIP_INDEX\" = 96\n"
   ]
  }
 ],
 "metadata": {
  "kernelspec": {
   "display_name": "Python 3",
   "language": "python",
   "name": "python3"
  },
  "language_info": {
   "codemirror_mode": {
    "name": "ipython",
    "version": 3
   },
   "file_extension": ".py",
   "mimetype": "text/x-python",
   "name": "python",
   "nbconvert_exporter": "python",
   "pygments_lexer": "ipython3",
   "version": "3.6.6"
  }
 },
 "nbformat": 4,
 "nbformat_minor": 2
}
